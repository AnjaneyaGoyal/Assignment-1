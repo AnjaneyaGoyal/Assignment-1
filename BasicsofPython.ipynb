{
  "cells": [
    {
      "cell_type": "markdown",
      "metadata": {
        "id": "view-in-github",
        "colab_type": "text"
      },
      "source": [
        "<a href=\"https://colab.research.google.com/github/AnjaneyaGoyal/Assignment-1/blob/main/BasicsofPython.ipynb\" target=\"_parent\"><img src=\"https://colab.research.google.com/assets/colab-badge.svg\" alt=\"Open In Colab\"/></a>"
      ]
    },
    {
      "cell_type": "code",
      "execution_count": null,
      "id": "2099c495",
      "metadata": {
        "id": "2099c495"
      },
      "outputs": [],
      "source": [
        "import random\n",
        "import string\n",
        "import time\n",
        "import matplotlib.pyplot as plt"
      ]
    },
    {
      "cell_type": "code",
      "execution_count": null,
      "id": "34754f6a",
      "metadata": {
        "id": "34754f6a"
      },
      "outputs": [],
      "source": [
        "\n",
        "def is_prime(n):\n",
        "    if n <= 1:\n",
        "        return False\n",
        "    for i in range(2, int(n**0.5)+1):\n",
        "        if n % i == 0:\n",
        "            return False\n",
        "    return True\n"
      ]
    },
    {
      "cell_type": "markdown",
      "id": "111cc629",
      "metadata": {
        "id": "111cc629"
      },
      "source": [
        "Q1. L is a list defined as L= [11, 12, 13, 14]."
      ]
    },
    {
      "cell_type": "code",
      "execution_count": null,
      "id": "7fde0e4e",
      "metadata": {
        "id": "7fde0e4e"
      },
      "outputs": [],
      "source": [
        "\n",
        "# (i) Add 50 and 60 to L\n",
        "L = [11, 12, 13, 14]\n",
        "L.append(50)\n",
        "L.append(60)\n",
        "print(\"After adding 50 and 60:\", L)\n",
        "\n",
        "# (ii) Remove 11 and 13 from L\n",
        "L.remove(11)\n",
        "L.remove(13)\n",
        "print(\"After removing 11 and 13:\", L)\n",
        "\n",
        "# (iii) Sort L in ascending order\n",
        "L.sort()\n",
        "print(\"Ascending:\", L)\n",
        "\n",
        "# (iv) Sort L in descending order\n",
        "L.sort(reverse=True)\n",
        "print(\"Descending:\", L)\n",
        "\n",
        "# (v) Search for 13 in L\n",
        "print(\"13 found?\" , 13 in L)\n",
        "\n",
        "# (vi) Count number of elements in L\n",
        "print(\"Length:\", len(L))\n",
        "\n",
        "# (vii) Sum all elements in L\n",
        "print(\"Sum:\", sum(L))\n",
        "\n",
        "# (viii) Sum of ODD numbers\n",
        "print(\"Odd sum:\", sum(x for x in L if x % 2 != 0))\n",
        "\n",
        "# (ix) Sum of EVEN numbers\n",
        "print(\"Even sum:\", sum(x for x in L if x % 2 == 0))\n",
        "\n",
        "# (x) Sum of PRIME numbers\n",
        "def is_prime(n):\n",
        "    if n <= 1:\n",
        "        return False\n",
        "    for i in range(2, int(n**0.5)+1):\n",
        "        if n % i == 0:\n",
        "            return False\n",
        "    return True\n",
        "\n",
        "print(\"Prime sum:\", sum(x for x in L if is_prime(x)))\n",
        "\n",
        "# (xi) Clear all elements in L\n",
        "L.clear()\n",
        "print(\"After clear:\", L)\n",
        "\n",
        "# (xii) Delete L\n",
        "del L\n"
      ]
    },
    {
      "cell_type": "markdown",
      "id": "3fc8b19f",
      "metadata": {
        "id": "3fc8b19f"
      },
      "source": [
        "Q2. D is a dictionary defined as D= {1:5.6, 2:7.8, 3:6.6, 4:8.7, 5:7.7}."
      ]
    },
    {
      "cell_type": "code",
      "execution_count": null,
      "id": "0fbd8668",
      "metadata": {
        "id": "0fbd8668"
      },
      "outputs": [],
      "source": [
        "\n",
        "D = {1:5.6, 2:7.8, 3:6.6, 4:8.7, 5:7.7}\n",
        "\n",
        "# (i) Add key=8 and value=8.8\n",
        "D[8] = 8.8\n",
        "\n",
        "# (ii) Remove key=2\n",
        "D.pop(2)\n",
        "\n",
        "# (iii) Check if key 6 is present\n",
        "print(\"6 in D?\", 6 in D)\n",
        "\n",
        "# (iv) Count number of elements\n",
        "print(\"Length:\", len(D))\n",
        "\n",
        "# (v) Sum of values\n",
        "print(\"Sum:\", sum(D.values()))\n",
        "\n",
        "# (vi) Update value of key 3 to 7.1\n",
        "D[3] = 7.1\n",
        "\n",
        "# (vii) Clear dictionary\n",
        "D.clear()\n",
        "print(\"After clear:\", D)\n"
      ]
    },
    {
      "cell_type": "markdown",
      "id": "1a6cb160",
      "metadata": {
        "id": "1a6cb160"
      },
      "source": [
        "Q3. S1 and S2 are sets defined as S1= [10, 20, 30, 40, 50, 60], S2= [40, 50, 60, 70, 80, 90]."
      ]
    },
    {
      "cell_type": "code",
      "execution_count": null,
      "id": "02a5076f",
      "metadata": {
        "id": "02a5076f"
      },
      "outputs": [],
      "source": [
        "\n",
        "S1 = set([10, 20, 30, 40, 50, 60])\n",
        "S2 = set([40, 50, 60, 70, 80, 90])\n",
        "\n",
        "S1.add(55)\n",
        "S1.add(66)\n",
        "S1.discard(10)\n",
        "S1.discard(30)\n",
        "print(\"40 in S1?\", 40 in S1)\n",
        "print(\"Union:\", S1.union(S2))\n",
        "print(\"Intersection:\", S1.intersection(S2))\n",
        "print(\"S1 - S2:\", S1.difference(S2))\n"
      ]
    },
    {
      "cell_type": "markdown",
      "id": "516c559a",
      "metadata": {
        "id": "516c559a"
      },
      "source": [
        "Q4. Miscellaneous Programs"
      ]
    },
    {
      "cell_type": "code",
      "execution_count": null,
      "id": "865dbb8b",
      "metadata": {
        "id": "865dbb8b"
      },
      "outputs": [],
      "source": [
        "\n",
        "for _ in range(100):\n",
        "    length = random.randint(6, 8)\n",
        "    s = ''.join(random.choices(string.ascii_letters, k=length))\n",
        "    print(s)\n",
        "\n",
        "primes = [x for x in range(600, 801) if is_prime(x)]\n",
        "print(\"Primes:\", primes)\n",
        "\n",
        "div_7_9 = [x for x in range(100, 1001) if x % 7 == 0 and x % 9 == 0]\n",
        "print(\"Divisible by 7 and 9:\", div_7_9)\n"
      ]
    },
    {
      "cell_type": "markdown",
      "id": "e175f943",
      "metadata": {
        "id": "e175f943"
      },
      "source": [
        "Q5. Random list analysis"
      ]
    },
    {
      "cell_type": "code",
      "execution_count": null,
      "id": "b5666b41",
      "metadata": {
        "id": "b5666b41"
      },
      "outputs": [],
      "source": [
        "\n",
        "list1 = [random.randint(10, 30) for _ in range(10)]\n",
        "list2 = [random.randint(10, 30) for _ in range(10)]\n",
        "print(\"List1:\", list1)\n",
        "print(\"List2:\", list2)\n",
        "print(\"Common:\", set(list1) & set(list2))\n",
        "print(\"Unique:\", set(list1) ^ set(list2))\n",
        "print(\"Min List1:\", min(list1), \"Min List2:\", min(list2))\n",
        "print(\"Max List1:\", max(list1), \"Max List2:\", max(list2))\n",
        "print(\"Sum List1:\", sum(list1), \"Sum List2:\", sum(list2))\n"
      ]
    },
    {
      "cell_type": "markdown",
      "id": "99314c9b",
      "metadata": {
        "id": "99314c9b"
      },
      "source": [
        "Q6. 100 random numbers between 100 and 900"
      ]
    },
    {
      "cell_type": "code",
      "execution_count": null,
      "id": "f5cc2040",
      "metadata": {
        "id": "f5cc2040"
      },
      "outputs": [],
      "source": [
        "\n",
        "numbers = [random.randint(100, 900) for _ in range(100)]\n",
        "odds = [x for x in numbers if x % 2 == 1]\n",
        "evens = [x for x in numbers if x % 2 == 0]\n",
        "primes = [x for x in numbers if is_prime(x)]\n",
        "print(\"Odd Count:\", len(odds))\n",
        "print(\"Even Count:\", len(evens))\n",
        "print(\"Prime Count:\", len(primes))\n"
      ]
    },
    {
      "cell_type": "markdown",
      "id": "5c049a7c",
      "metadata": {
        "id": "5c049a7c"
      },
      "source": [
        "Q7. Write dictionary to file"
      ]
    },
    {
      "cell_type": "code",
      "execution_count": null,
      "id": "beb718d6",
      "metadata": {
        "id": "beb718d6"
      },
      "outputs": [],
      "source": [
        "\n",
        "D = {1:\"One\",2:\"Two\",3:\"Three\",4:\"Four\",5:\"Five\"}\n",
        "with open(\"dict_output.txt\", \"w\") as f:\n",
        "    for k, v in D.items():\n",
        "        f.write(f\"{k}, {v}\\n\")\n"
      ]
    },
    {
      "cell_type": "markdown",
      "id": "339a4454",
      "metadata": {
        "id": "339a4454"
      },
      "source": [
        "Q8. Write word lengths to file"
      ]
    },
    {
      "cell_type": "code",
      "execution_count": null,
      "id": "43af0a08",
      "metadata": {
        "id": "43af0a08"
      },
      "outputs": [],
      "source": [
        "\n",
        "L = [\"One\",\"Two\",\"Three\",\"Four\",\"Five\"]\n",
        "with open(\"list_lengths.txt\", \"w\") as f:\n",
        "    for item in L:\n",
        "        f.write(f\"{item}, {len(item)}\\n\")\n"
      ]
    },
    {
      "cell_type": "markdown",
      "id": "7a821bf1",
      "metadata": {
        "id": "7a821bf1"
      },
      "source": [
        "Q9. Write 100 random strings (length 10-15) to file"
      ]
    },
    {
      "cell_type": "code",
      "execution_count": null,
      "id": "88cf7fe6",
      "metadata": {
        "id": "88cf7fe6"
      },
      "outputs": [],
      "source": [
        "\n",
        "with open(\"random_strings.txt\", \"w\") as f:\n",
        "    for _ in range(100):\n",
        "        length = random.randint(10, 15)\n",
        "        s = ''.join(random.choices(string.ascii_letters, k=length))\n",
        "        f.write(s + \"\\n\")\n"
      ]
    },
    {
      "cell_type": "markdown",
      "id": "a90c6d5e",
      "metadata": {
        "id": "a90c6d5e"
      },
      "source": [
        "Q10. Write all prime numbers between 600 and 800 to file"
      ]
    },
    {
      "cell_type": "code",
      "execution_count": null,
      "id": "e12f7d6e",
      "metadata": {
        "id": "e12f7d6e"
      },
      "outputs": [],
      "source": [
        "\n",
        "with open(\"prime_600_800.txt\", \"w\") as f:\n",
        "    for x in range(600, 801):\n",
        "        if is_prime(x):\n",
        "            f.write(str(x) + \"\\n\")\n"
      ]
    },
    {
      "cell_type": "markdown",
      "id": "24e4d453",
      "metadata": {
        "id": "24e4d453"
      },
      "source": [
        "Q11. Time a program"
      ]
    },
    {
      "cell_type": "code",
      "execution_count": null,
      "id": "f1a94832",
      "metadata": {
        "id": "f1a94832"
      },
      "outputs": [],
      "source": [
        "\n",
        "start = time.time()\n",
        "sum(i*i for i in range(1000000))\n",
        "end = time.time()\n",
        "print(\"Time taken:\", end - start, \"seconds\")\n"
      ]
    },
    {
      "cell_type": "markdown",
      "id": "569c1e21",
      "metadata": {
        "id": "569c1e21"
      },
      "source": [
        "Q12. Sort time plot"
      ]
    },
    {
      "cell_type": "code",
      "execution_count": null,
      "id": "b9aa9127",
      "metadata": {
        "id": "b9aa9127"
      },
      "outputs": [],
      "source": [
        "\n"
      ]
    },
    {
      "cell_type": "markdown",
      "id": "14634db5",
      "metadata": {
        "id": "14634db5"
      },
      "source": [
        "Q13. Student marks analysis"
      ]
    },
    {
      "cell_type": "code",
      "execution_count": null,
      "id": "9fbdd9df",
      "metadata": {
        "id": "9fbdd9df"
      },
      "outputs": [],
      "source": [
        "\n",
        "students = {\n",
        "    \"Alice\": [78, 82, 85, 90, 76],\n",
        "    \"Bob\": [65, 70, 72, 68, 60],\n",
        "    \"Charlie\": [90, 92, 94, 88, 95]\n",
        "}\n",
        "averages = {k: sum(v)/len(v) for k, v in students.items()}\n",
        "max_student = max(averages, key=averages.get)\n",
        "min_student = min(averages, key=averages.get)\n",
        "print(\"Max avg student:\", max_student, \"with avg:\", averages[max_student])\n",
        "print(\"Min avg student:\", min_student, \"with avg:\", averages[min_student])\n"
      ]
    }
  ],
  "metadata": {
    "colab": {
      "provenance": [],
      "include_colab_link": true
    },
    "language_info": {
      "name": "python"
    },
    "kernelspec": {
      "name": "python3",
      "display_name": "Python 3"
    }
  },
  "nbformat": 4,
  "nbformat_minor": 5
}